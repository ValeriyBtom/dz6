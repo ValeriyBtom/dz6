{
 "cells": [
  {
   "cell_type": "code",
   "execution_count": 4,
   "id": "d0321c2a-b766-4e5e-bd0a-2914957afbc4",
   "metadata": {},
   "outputs": [
    {
     "name": "stdout",
     "output_type": "stream",
     "text": [
      "Пополнение счета: 20 руб. 2024-12-25 21:05:33.964883+00:00\n",
      "Ваш баланс: Ivan 120 руб. 2024-12-25 21:05:33.964883+00:00\n",
      "Снятие наличных: -20 руб. 2024-12-25 21:05:33.966562+00:00\n",
      "Ваш баланс: Ivan 100 руб. 2024-12-25 21:05:33.966562+00:00\n",
      "Пополнение счета: 60 руб. 2024-12-25 21:05:33.967068+00:00\n",
      "Ваш баланс: Ira 510 руб. 2024-12-25 21:05:33.967068+00:00\n",
      "Снятие наличных: -40 руб. 2024-12-25 21:05:33.967068+00:00\n",
      "Ваш баланс: Ira 470 руб. 2024-12-25 21:05:33.968071+00:00\n",
      "Ваш баланс: Ivan 100 руб. 2024-12-25 21:05:33.968071+00:00\n",
      "История операций:\n",
      "Внесение средств Ivan \u001b[0;30;42m20\u001b[00m в 2024-12-25 21:05:33.968071+00:00\n",
      "Снятие средств Ivan \u001b[1;30;41m-20\u001b[00m в 2024-12-25 21:05:33.968071+00:00\n",
      "Ваш баланс: Ira 470 руб. 2024-12-25 21:05:33.968071+00:00\n",
      "История операций:\n",
      "Внесение средств Ira \u001b[0;30;42m60\u001b[00m в 2024-12-25 21:05:33.968071+00:00\n",
      "Снятие средств Ira \u001b[1;30;41m-40\u001b[00m в 2024-12-25 21:05:33.968071+00:00\n"
     ]
    }
   ],
   "source": [
    "from datetime import datetime\n",
    "import pytz\n",
    "\n",
    "WHITE = \"\\033[00m\"\n",
    "RED = \"\\033[1;30;41m\"\n",
    "GREEN = \"\\033[0;30;42m\"\n",
    "\n",
    "class Account:      #обьявляем класс Account\n",
    "    def __init__(self, name, start_balance):\n",
    "        self.name = name\n",
    "        self.start_balance = start_balance\n",
    "        self.history_operation = []           \n",
    "    @staticmethod\n",
    "    def _get_local_time():\n",
    "        return pytz.utc.localize(datetime.now())        \n",
    "    def sum_balance(self, my_money):           #метод зачисления денег на счет\n",
    "        self.start_balance += my_money\n",
    "        print(f\"Пополнение счета: {my_money} руб. {self._get_local_time()}\")\n",
    "        self.show_start_balance()\n",
    "        self.print_log(my_money)\n",
    "        self.history_operation.append([my_money, self._get_local_time()])             \n",
    "    def withdraw_money(self, my_money):         #метод снятия денег со счета с проверкой отрицительного баланса\n",
    "        if self.start_balance < my_money:\n",
    "            print(f\"Денег на счете недостаточно для снятия {self._get_local_time()}\")\n",
    "            self.show_start_balance()\n",
    "        else:\n",
    "            self.start_balance -= my_money\n",
    "            print(f\"Снятие наличных: {-my_money} руб. {self._get_local_time()}\")\n",
    "            self.show_start_balance()\n",
    "            self.print_log(-my_money)\n",
    "            self.history_operation.append([-my_money, self._get_local_time()])\n",
    "    def show_history_operation(self):            #метод формирования истории операций по счету\n",
    "        print(\"История операций:\")\n",
    "        for my_money, date in self.history_operation:\n",
    "            if my_money > 0:    \n",
    "                operation = 'Внесение средств'\n",
    "                color = GREEN\n",
    "            else:\n",
    "                operation = 'Снятие средств'\n",
    "                color = RED\n",
    "            print(f\"{operation} {self.name} {color}{my_money}{WHITE} в {self._get_local_time()}\")\n",
    "    def show_start_balance(self):               #метод вывода текущего баланса на счете\n",
    "        print(f\"Ваш баланс: {self.name} {self.start_balance} руб. {self._get_local_time()}\")\n",
    "    def print_log(self, my_money):              #метод записи транзакций в файл лог\n",
    "        with open(file='log_operation.txt', mode='a', encoding='utf-8') as file:\n",
    "            file.write(f\"{self.name} {my_money} {self._get_local_time()}\\n\")\n",
    "\n",
    "Men = Account('Ivan', 100)\n",
    "Woman = Account('Ira', 450)\n",
    "Men.sum_balance(20)\n",
    "Men.withdraw_money(20)\n",
    "Woman.sum_balance(60)\n",
    "Woman.withdraw_money(40)\n",
    "\n",
    "Men.show_start_balance()\n",
    "Men.show_history_operation()\n",
    "\n",
    "Woman.show_start_balance()\n",
    "Woman.show_history_operation()\n"
   ]
  },
  {
   "cell_type": "code",
   "execution_count": null,
   "id": "c2175db0-5264-47f2-8102-5144bbc1bb71",
   "metadata": {},
   "outputs": [],
   "source": []
  },
  {
   "cell_type": "code",
   "execution_count": null,
   "id": "246a5956-5614-4ced-bba4-9022672fffa1",
   "metadata": {},
   "outputs": [],
   "source": []
  }
 ],
 "metadata": {
  "kernelspec": {
   "display_name": "Python 3 (ipykernel)",
   "language": "python",
   "name": "python3"
  },
  "language_info": {
   "codemirror_mode": {
    "name": "ipython",
    "version": 3
   },
   "file_extension": ".py",
   "mimetype": "text/x-python",
   "name": "python",
   "nbconvert_exporter": "python",
   "pygments_lexer": "ipython3",
   "version": "3.12.7"
  }
 },
 "nbformat": 4,
 "nbformat_minor": 5
}
