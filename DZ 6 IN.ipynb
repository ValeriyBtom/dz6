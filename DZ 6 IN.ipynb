{
 "cells": [
  {
   "cell_type": "markdown",
   "id": "ff584654-b965-4afe-824d-e8fd81e5db98",
   "metadata": {},
   "source": [
    "Нужно реализовать класс Account, который отражает абстракцию базового поведения банковского аккаунта:\n",
    "● создать банковский аккаунт с параметрами: имя; стартовый баланс с которым зарегистрирован аккаунт; история операций*;\n",
    "● реализовать два метода, которые позволяют положить деньги на счёт или снять деньги со счёта;\n",
    "● продумать, как можно хранить историю поступления или снятия денег, чтобы с ней было удобно работать*."
   ]
  },
  {
   "cell_type": "code",
   "execution_count": 29,
   "id": "5fbf6086-6423-40ed-8a99-bd7e83c7ffb9",
   "metadata": {},
   "outputs": [
    {
     "name": "stdout",
     "output_type": "stream",
     "text": [
      "Снятие наличных: 10 руб. 2024-12-24 23:21:42.636227+00:00\n",
      "Ваш баланс: 90 руб. \n",
      "Пополнение счета: 20 руб. 2024-12-24 23:21:42.636227+00:00\n",
      "Ваш баланс: 110 руб. \n",
      "снятие средств \u001b[1;31;43m-10\u001b[00m at 2024-12-25 02:21:42.636227+03:00\n",
      "внесение средств \u001b[0;92;46m20\u001b[00m at 2024-12-25 02:21:42.636227+03:00\n",
      "История операций: \n",
      " [[-10, datetime.datetime(2024, 12, 24, 23, 21, 42, 636227, tzinfo=<UTC>)], [20, datetime.datetime(2024, 12, 24, 23, 21, 42, 636227, tzinfo=<UTC>)]]\n"
     ]
    }
   ],
   "source": [
    "from datetime import datetime\n",
    "import pytz\n",
    "\n",
    "WHITE = \"\\033[00m\"\n",
    "RED = \"\\033[1;31;43m\"\n",
    "GREEN = \"\\033[0;92;46m\"\n",
    "\n",
    "\n",
    "class Account:\n",
    "    def __init__(self, name, start_balance):\n",
    "        self.name = name\n",
    "        self.start_balance = start_balance\n",
    "        self.history_operation = [] \n",
    "    \n",
    "    @staticmethod\n",
    "    def _get_local_time():\n",
    "        return pytz.utc.localize(datetime.now())\n",
    "    \n",
    "    def sum_balance(self, my_money): #метод зачисления денег на счет\n",
    "        self.start_balance += my_money\n",
    "        print(f\"Пополнение счета: {my_money} руб. {self._get_local_time()}\")\n",
    "        self.show_start_balance()\n",
    "        self.history_operation.append([my_money, self._get_local_time()])\n",
    "                    \n",
    "    def withdraw_money(self, my_money): #метод снятия денег со счета с проверкой отрицительного баланса\n",
    "        if self.start_balance < my_money:\n",
    "            print(f\"Денег на счете недостаточно для снятия {{self._get_local_time()}}\")\n",
    "            self.show_start_balance()\n",
    "            \n",
    "        else:\n",
    "            self.start_balance -= my_money\n",
    "            print(f\"Снятие наличных: {my_money} руб. {self._get_local_time()}\")\n",
    "            self.show_start_balance()\n",
    "            self.history_operation.append([-my_money, self._get_local_time()])\n",
    "            \n",
    "            \n",
    "    def show_history(self):\n",
    "        for my_money, date in self.history_operation:\n",
    "            if my_money > 0:    \n",
    "                transaction = 'внесение средств'\n",
    "                color = GREEN\n",
    "            else:\n",
    "                transaction = 'снятие средств'\n",
    "                color = RED\n",
    "            print(f\"{transaction} {color}{my_money}{WHITE} at {date.astimezone()}\")\n",
    "\n",
    "    \n",
    "    def show_all_history(self):\n",
    "        print (f\"История операций: \\n {self.history_operation}\")\n",
    "   \n",
    "    def show_start_balance(self):\n",
    "        print(f\"Ваш баланс: {self.start_balance} руб. \")\n",
    "        \n",
    "\n",
    "S = Account('Ivan', 100)\n",
    "S.withdraw_money(10)\n",
    "S.sum_balance(20)\n",
    "S.show_history()\n",
    "S.show_all_history()"
   ]
  },
  {
   "cell_type": "code",
   "execution_count": null,
   "id": "e5370632-2c99-4634-8bf6-20b8affa2f50",
   "metadata": {},
   "outputs": [],
   "source": []
  },
  {
   "cell_type": "code",
   "execution_count": null,
   "id": "01bf9216-e129-43ab-9a38-acfe37b7bcf4",
   "metadata": {},
   "outputs": [],
   "source": []
  }
 ],
 "metadata": {
  "kernelspec": {
   "display_name": "Python 3 (ipykernel)",
   "language": "python",
   "name": "python3"
  },
  "language_info": {
   "codemirror_mode": {
    "name": "ipython",
    "version": 3
   },
   "file_extension": ".py",
   "mimetype": "text/x-python",
   "name": "python",
   "nbconvert_exporter": "python",
   "pygments_lexer": "ipython3",
   "version": "3.12.7"
  }
 },
 "nbformat": 4,
 "nbformat_minor": 5
}
