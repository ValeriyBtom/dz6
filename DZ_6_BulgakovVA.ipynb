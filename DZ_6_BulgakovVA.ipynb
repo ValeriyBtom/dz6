{
 "cells": [
  {
   "cell_type": "code",
   "execution_count": 29,
   "id": "6df6f9eb-c87f-454c-8d27-12685632bc75",
   "metadata": {},
   "outputs": [
    {
     "name": "stdout",
     "output_type": "stream",
     "text": [
      "Снятие наличных: 10 руб. 2024-12-24 23:35:48.870437+00:00\n",
      "Ваш баланс: 90 руб. 2024-12-24 23:35:48.870437+00:00\n",
      "Снятие наличных: 40 руб. 2024-12-24 23:35:48.871520+00:00\n",
      "Ваш баланс: 410 руб. 2024-12-24 23:35:48.871520+00:00\n",
      "Пополнение счета: 20 руб. 2024-12-24 23:35:48.871520+00:00\n",
      "Ваш баланс: 110 руб. 2024-12-24 23:35:48.871520+00:00\n",
      "Пополнение счета: 60 руб. 2024-12-24 23:35:48.872134+00:00\n",
      "Ваш баланс: 470 руб. 2024-12-24 23:35:48.872134+00:00\n"
     ]
    }
   ],
   "source": [
    "from datetime import datetime\n",
    "import pytz\n",
    "\n",
    "class Account:\n",
    "    def __init__(self, name, start_balance):\n",
    "        self.name = name\n",
    "        self.start_balance = start_balance\n",
    "           \n",
    "    @staticmethod\n",
    "    def _get_local_time():\n",
    "        return pytz.utc.localize(datetime.now())        \n",
    "    \n",
    "    def sum_balance(self, my_money): #метод зачисления денег на счет\n",
    "        self.start_balance += my_money\n",
    "        print(f\"Пополнение счета: {my_money} руб. {self._get_local_time()}\")\n",
    "        self.show_start_balance()\n",
    "        self.print_log(my_money)\n",
    "             \n",
    "    def withdraw_money(self, my_money): #метод снятия денег со счета с проверкой отрицительного баланса\n",
    "        if self.start_balance < my_money:\n",
    "            print(f\"Денег на счете недостаточно для снятия {self._get_local_time()}\")\n",
    "            self.show_start_balance()\n",
    "        else:\n",
    "            self.start_balance -= my_money\n",
    "            print(f\"Снятие наличных: {my_money} руб. {self._get_local_time()}\")\n",
    "            self.show_start_balance()\n",
    "            self.print_log(my_money)\n",
    "\n",
    "    def show_history(self):\n",
    "       for my_money in self.history_operation:\n",
    "            if my_money > 0:    \n",
    "                transaction = 'внесение средств'\n",
    "                color = GREEN\n",
    "            else:\n",
    "                transaction = 'снятие средств'\n",
    "                color = RED\n",
    "            print(f\"{transaction} {color}{my_money}{WHITE} {self._get_local_time()}\")\n",
    " \n",
    "    def show_start_balance(self):\n",
    "        print(f\"Ваш баланс: {self.start_balance} руб. {self._get_local_time()}\")\n",
    "\n",
    "    def print_log(self, my_money):\n",
    "        with open(file='log_operation.txt', mode='a', encoding='utf-8') as file:\n",
    "            file.write(f\"{self.name} {my_money} {self._get_local_time()}\\n\")\n",
    "        \n",
    "S = Account('Ivan', 100)\n",
    "W = Account('Ira', 450)\n",
    "S.withdraw_money(10)\n",
    "W.withdraw_money(40)\n",
    "S.sum_balance(20)\n",
    "W.sum_balance(60)"
   ]
  },
  {
   "cell_type": "code",
   "execution_count": null,
   "id": "c7600e28-6579-4431-9911-0c457dadeca7",
   "metadata": {},
   "outputs": [],
   "source": []
  },
  {
   "cell_type": "code",
   "execution_count": null,
   "id": "60cde222-353e-49fb-8f71-73bd4f83deed",
   "metadata": {},
   "outputs": [],
   "source": []
  }
 ],
 "metadata": {
  "kernelspec": {
   "display_name": "Python 3 (ipykernel)",
   "language": "python",
   "name": "python3"
  },
  "language_info": {
   "codemirror_mode": {
    "name": "ipython",
    "version": 3
   },
   "file_extension": ".py",
   "mimetype": "text/x-python",
   "name": "python",
   "nbconvert_exporter": "python",
   "pygments_lexer": "ipython3",
   "version": "3.12.7"
  }
 },
 "nbformat": 4,
 "nbformat_minor": 5
}
